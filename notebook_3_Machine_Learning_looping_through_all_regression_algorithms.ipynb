{
 "cells": [
  {
   "cell_type": "markdown",
   "id": "7555f8c6",
   "metadata": {},
   "source": [
    "# In the notebook I will show how I iterate over multiple \n",
    "algorithms utilizing python's sklearn library. In the \"Basic\" section, I will iterate though each algorithm and nothing more.  Afterwards I will scale the data and then apply principle component analysis.\n",
    "<br>\n",
    "<br>\n",
    "Inspired by DataCamp's Hyperparameter Tuning in Python Chapter 2 pages 18+"
   ]
  },
  {
   "cell_type": "code",
   "execution_count": 1,
   "id": "1c3631ad",
   "metadata": {},
   "outputs": [],
   "source": [
    "import pandas as pd\n",
    "import numpy as np\n",
    "\n",
    "import matplotlib.pyplot as plt\n",
    "import seaborn as sns\n",
    "\n",
    "from sklearn.preprocessing import StandardScaler\n",
    "from sklearn.decomposition import PCA\n",
    "from sklearn.pipeline import Pipeline\n",
    "\n",
    "from sklearn.ensemble import RandomForestRegressor\n",
    "from sklearn.ensemble import GradientBoostingRegressor\n",
    "from sklearn.linear_model import LinearRegression\n",
    "from sklearn.tree import DecisionTreeRegressor\n",
    "from sklearn.linear_model import SGDRegressor\n",
    "\n",
    "\n",
    "from sklearn.model_selection import train_test_split\n",
    "\n",
    "from sklearn.model_selection import GridSearchCV\n",
    "from sklearn.metrics import mean_squared_error"
   ]
  },
  {
   "cell_type": "code",
   "execution_count": 2,
   "id": "6e53c613",
   "metadata": {},
   "outputs": [],
   "source": [
    "df1 = pd.read_csv('boston_housing.csv', usecols = ['CRIM', 'ZN', 'INDUS', 'CHAS', 'NOX',\n",
    "                                                   'RM', 'AGE', 'DIS', 'RAD', 'TAX', 'PTRATIO',\n",
    "                                                   'B', 'LSTAT', 'target'])"
   ]
  },
  {
   "cell_type": "code",
   "execution_count": 3,
   "id": "e9117c95",
   "metadata": {},
   "outputs": [
    {
     "data": {
      "text/html": [
       "<div>\n",
       "<style scoped>\n",
       "    .dataframe tbody tr th:only-of-type {\n",
       "        vertical-align: middle;\n",
       "    }\n",
       "\n",
       "    .dataframe tbody tr th {\n",
       "        vertical-align: top;\n",
       "    }\n",
       "\n",
       "    .dataframe thead th {\n",
       "        text-align: right;\n",
       "    }\n",
       "</style>\n",
       "<table border=\"1\" class=\"dataframe\">\n",
       "  <thead>\n",
       "    <tr style=\"text-align: right;\">\n",
       "      <th></th>\n",
       "      <th>CRIM</th>\n",
       "      <th>ZN</th>\n",
       "      <th>INDUS</th>\n",
       "      <th>CHAS</th>\n",
       "      <th>NOX</th>\n",
       "      <th>RM</th>\n",
       "      <th>AGE</th>\n",
       "      <th>DIS</th>\n",
       "      <th>RAD</th>\n",
       "      <th>TAX</th>\n",
       "      <th>PTRATIO</th>\n",
       "      <th>B</th>\n",
       "      <th>LSTAT</th>\n",
       "      <th>target</th>\n",
       "    </tr>\n",
       "  </thead>\n",
       "  <tbody>\n",
       "    <tr>\n",
       "      <th>0</th>\n",
       "      <td>0.00632</td>\n",
       "      <td>18.0</td>\n",
       "      <td>2.31</td>\n",
       "      <td>0.0</td>\n",
       "      <td>0.538</td>\n",
       "      <td>6.575</td>\n",
       "      <td>65.2</td>\n",
       "      <td>4.0900</td>\n",
       "      <td>1.0</td>\n",
       "      <td>296.0</td>\n",
       "      <td>15.3</td>\n",
       "      <td>396.90</td>\n",
       "      <td>4.98</td>\n",
       "      <td>24.0</td>\n",
       "    </tr>\n",
       "    <tr>\n",
       "      <th>1</th>\n",
       "      <td>0.02731</td>\n",
       "      <td>0.0</td>\n",
       "      <td>7.07</td>\n",
       "      <td>0.0</td>\n",
       "      <td>0.469</td>\n",
       "      <td>6.421</td>\n",
       "      <td>78.9</td>\n",
       "      <td>4.9671</td>\n",
       "      <td>2.0</td>\n",
       "      <td>242.0</td>\n",
       "      <td>17.8</td>\n",
       "      <td>396.90</td>\n",
       "      <td>9.14</td>\n",
       "      <td>21.6</td>\n",
       "    </tr>\n",
       "    <tr>\n",
       "      <th>2</th>\n",
       "      <td>0.02729</td>\n",
       "      <td>0.0</td>\n",
       "      <td>7.07</td>\n",
       "      <td>0.0</td>\n",
       "      <td>0.469</td>\n",
       "      <td>7.185</td>\n",
       "      <td>61.1</td>\n",
       "      <td>4.9671</td>\n",
       "      <td>2.0</td>\n",
       "      <td>242.0</td>\n",
       "      <td>17.8</td>\n",
       "      <td>392.83</td>\n",
       "      <td>4.03</td>\n",
       "      <td>34.7</td>\n",
       "    </tr>\n",
       "    <tr>\n",
       "      <th>3</th>\n",
       "      <td>0.03237</td>\n",
       "      <td>0.0</td>\n",
       "      <td>2.18</td>\n",
       "      <td>0.0</td>\n",
       "      <td>0.458</td>\n",
       "      <td>6.998</td>\n",
       "      <td>45.8</td>\n",
       "      <td>6.0622</td>\n",
       "      <td>3.0</td>\n",
       "      <td>222.0</td>\n",
       "      <td>18.7</td>\n",
       "      <td>394.63</td>\n",
       "      <td>2.94</td>\n",
       "      <td>33.4</td>\n",
       "    </tr>\n",
       "    <tr>\n",
       "      <th>4</th>\n",
       "      <td>0.06905</td>\n",
       "      <td>0.0</td>\n",
       "      <td>2.18</td>\n",
       "      <td>0.0</td>\n",
       "      <td>0.458</td>\n",
       "      <td>7.147</td>\n",
       "      <td>54.2</td>\n",
       "      <td>6.0622</td>\n",
       "      <td>3.0</td>\n",
       "      <td>222.0</td>\n",
       "      <td>18.7</td>\n",
       "      <td>396.90</td>\n",
       "      <td>5.33</td>\n",
       "      <td>36.2</td>\n",
       "    </tr>\n",
       "  </tbody>\n",
       "</table>\n",
       "</div>"
      ],
      "text/plain": [
       "      CRIM    ZN  INDUS  CHAS    NOX     RM   AGE     DIS  RAD    TAX  \\\n",
       "0  0.00632  18.0   2.31   0.0  0.538  6.575  65.2  4.0900  1.0  296.0   \n",
       "1  0.02731   0.0   7.07   0.0  0.469  6.421  78.9  4.9671  2.0  242.0   \n",
       "2  0.02729   0.0   7.07   0.0  0.469  7.185  61.1  4.9671  2.0  242.0   \n",
       "3  0.03237   0.0   2.18   0.0  0.458  6.998  45.8  6.0622  3.0  222.0   \n",
       "4  0.06905   0.0   2.18   0.0  0.458  7.147  54.2  6.0622  3.0  222.0   \n",
       "\n",
       "   PTRATIO       B  LSTAT  target  \n",
       "0     15.3  396.90   4.98    24.0  \n",
       "1     17.8  396.90   9.14    21.6  \n",
       "2     17.8  392.83   4.03    34.7  \n",
       "3     18.7  394.63   2.94    33.4  \n",
       "4     18.7  396.90   5.33    36.2  "
      ]
     },
     "execution_count": 3,
     "metadata": {},
     "output_type": "execute_result"
    }
   ],
   "source": [
    "df1.head()"
   ]
  },
  {
   "cell_type": "code",
   "execution_count": 4,
   "id": "dc2f5242",
   "metadata": {},
   "outputs": [],
   "source": [
    "X = df1.drop(columns = ['target'])\n",
    "y = df1['target']"
   ]
  },
  {
   "cell_type": "code",
   "execution_count": 5,
   "id": "ef500cec",
   "metadata": {},
   "outputs": [],
   "source": [
    "X_train, X_test, y_train, y_test = train_test_split(X, y, test_size=0.30, random_state=243)"
   ]
  },
  {
   "cell_type": "markdown",
   "id": "6e345f76",
   "metadata": {},
   "source": [
    "# Basic"
   ]
  },
  {
   "cell_type": "code",
   "execution_count": 6,
   "id": "bc28d28c",
   "metadata": {},
   "outputs": [],
   "source": [
    "models = {\n",
    "          'RandomForestRegressor' : RandomForestRegressor(max_features='sqrt'), \n",
    "          'GradientBoostingRegressor' : GradientBoostingRegressor(),\n",
    "          'LinearRegression' : LinearRegression(),\n",
    "          'DecisionTreeRegressor' : DecisionTreeRegressor(),\n",
    "          'SGDRegressor' : SGDRegressor(max_iter = 2000)\n",
    "         }\n",
    "\n",
    "hyperparameters = {\n",
    "                   'RandomForestRegressor' : \n",
    "                                            {'max_depth': [6, 8, 10, 12], 'min_samples_leaf': [1, 2, 4, 6],\n",
    "                                            'n_estimators' : [165, 175, 177, 180,]},\n",
    "                   'GradientBoostingRegressor' : \n",
    "                                           {\"max_depth\": [2, 4, 6, 8], \"min_samples_split\": [3, 5, 8, 10],\n",
    "                                            \"learning_rate\": [0.001, 0.01, 0.1, 0.15, 0.25]},\n",
    "                   'LinearRegression' : {'fit_intercept' : [True, False], 'positive' : [True, False]},\n",
    "    \n",
    "                   'DecisionTreeRegressor' : \n",
    "                                            {'max_depth': [2, 4, 6, 8], 'min_samples_leaf': [1, 2, 4, 6],},\n",
    "    \n",
    "                   'SGDRegressor' : {'alpha' : [0.15, 0.25, 0.30, 0.35], \n",
    "                                     'learning_rate' :['constant', 'optimal', 'invscaling', 'adaptive'],\n",
    "                                      'penalty': ['l2', 'l1', 'elasticnet', None],}\n",
    "            \n",
    "                  }"
   ]
  },
  {
   "cell_type": "code",
   "execution_count": 7,
   "id": "b486f539",
   "metadata": {
    "scrolled": false
   },
   "outputs": [
    {
     "name": "stdout",
     "output_type": "stream",
     "text": [
      "Algorithm, best hyperparameters, r-squared:\n",
      "RANDOMFORESTREGRESSOR : {'max_depth': 12, 'min_samples_leaf': 1, 'n_estimators': 180} 0.8247038461819008\n",
      "GRADIENTBOOSTINGREGRESSOR : {'learning_rate': 0.1, 'max_depth': 4, 'min_samples_split': 3} 0.8431710173025984\n",
      "LINEARREGRESSION : {'fit_intercept': True, 'positive': False} 0.6864013112944148\n",
      "DECISIONTREEREGRESSOR : {'max_depth': 8, 'min_samples_leaf': 2} 0.7014689877766709\n",
      "SGDREGRESSOR : {'alpha': 0.3, 'learning_rate': 'adaptive', 'penalty': 'l2'} -4.5017376544305714e+21\n"
     ]
    }
   ],
   "source": [
    "print('Algorithm, best hyperparameters, r-squared:')\n",
    "i = 0\n",
    "while i < len(list(models.values())):\n",
    "    \n",
    "    grid_rf_regression = GridSearchCV(\n",
    "    estimator = list(models.values())[i],\n",
    "    param_grid = list(hyperparameters.values())[i],\n",
    "    #scoring='neg_mean_squared_error',\n",
    "    scoring='r2',\n",
    "    n_jobs=4,\n",
    "    cv = 3,\n",
    "    refit=True,\n",
    "    return_train_score=True)\n",
    "    \n",
    "    grid_rf_regression.fit(X_train, y_train)\n",
    "    #display(grid_rf_regression.get_params())\n",
    "    \n",
    "    print(list(models.keys())[i].upper(),':',grid_rf_regression.best_params_,grid_rf_regression.best_score_)\n",
    "    \n",
    "    i += 1"
   ]
  },
  {
   "cell_type": "code",
   "execution_count": 8,
   "id": "24fba533",
   "metadata": {},
   "outputs": [],
   "source": [
    "#display(DecisionTreeRegressor().get_params().keys())\n",
    "#display(DecisionTreeRegressor().get_params())\n",
    "#display(grid_rf_regression.get_params())"
   ]
  },
  {
   "cell_type": "markdown",
   "id": "0ea740fb",
   "metadata": {},
   "source": [
    "# Scaling"
   ]
  },
  {
   "cell_type": "code",
   "execution_count": 9,
   "id": "ab8d094b",
   "metadata": {},
   "outputs": [],
   "source": [
    "scaler = StandardScaler()\n",
    "models = {\n",
    "          'RandomForestRegressor' : Pipeline([('scaler', scaler),\n",
    "                                              ('RandomForestRegressor', RandomForestRegressor(max_features='sqrt'))],),\n",
    "          'GradientBoostingRegressor' : Pipeline([('scaler', scaler),\n",
    "                                                  ('GradientBoostingRegressor', GradientBoostingRegressor())]),\n",
    "          'LinearRegression' : Pipeline([('scaler', scaler),\n",
    "                                         ('LinearRegression', LinearRegression())]),\n",
    "          'DecisionTreeRegressor' : Pipeline([('scaler', scaler),\n",
    "                                              ('DecisionTreeRegressor', DecisionTreeRegressor())]),\n",
    "          'SGDRegressor' :  Pipeline([('scaler', scaler),\n",
    "                                      ('SGDRegressor', SGDRegressor())])\n",
    "          }\n",
    "\n",
    "hyperparameters = {\n",
    "                   'RandomForestRegressor' : \n",
    "                                            {'RandomForestRegressor__max_depth': [6, 8, 10, 12],\n",
    "                                             'RandomForestRegressor__min_samples_leaf': [1, 2, 4, 6],\n",
    "                                            'RandomForestRegressor__n_estimators' : [165, 175, 177, 180,]},\n",
    "                   'GradientBoostingRegressor' : \n",
    "                                           {\"GradientBoostingRegressor__max_depth\": [2, 4, 6, 8],\n",
    "                                            \"GradientBoostingRegressor__min_samples_split\": [3, 5, 8, 10],\n",
    "                                            \"GradientBoostingRegressor__learning_rate\": [0.001, 0.01, 0.1, 0.15, 0.25]},\n",
    "                   'LinearRegression' : \n",
    "                                        {'LinearRegression__fit_intercept' : [True, False],\n",
    "                                          'LinearRegression__positive' : [True, False]},\n",
    "                   'DecisionTreeRegressor' : \n",
    "                                            {'DecisionTreeRegressor__max_depth': [2, 4, 6, 8],\n",
    "                                             'DecisionTreeRegressor__min_samples_leaf': [1, 2, 4, 6],},\n",
    "                   'SGDRegressor' : \n",
    "                                    {'SGDRegressor__alpha' : [0.15, 0.25, 0.30, 0.35], \n",
    "                                     'SGDRegressor__learning_rate' :['constant', 'optimal', 'invscaling', 'adaptive'],\n",
    "                                      'SGDRegressor__penalty': ['l2', 'l1', 'elasticnet', None],}\n",
    "                    }"
   ]
  },
  {
   "cell_type": "code",
   "execution_count": 10,
   "id": "ef0fcb44",
   "metadata": {},
   "outputs": [
    {
     "name": "stdout",
     "output_type": "stream",
     "text": [
      "Algorithm, best hyperparameters, r-squared:\n",
      "RANDOMFORESTREGRESSOR : {'RandomForestRegressor__max_depth': 8, 'RandomForestRegressor__min_samples_leaf': 1, 'RandomForestRegressor__n_estimators': 175} 0.826227448699833\n",
      "  \n",
      "GRADIENTBOOSTINGREGRESSOR : {'GradientBoostingRegressor__learning_rate': 0.1, 'GradientBoostingRegressor__max_depth': 4, 'GradientBoostingRegressor__min_samples_split': 8} 0.843835347505636\n",
      "  \n",
      "LINEARREGRESSION : {'LinearRegression__fit_intercept': True, 'LinearRegression__positive': False} 0.6864013112944152\n",
      "  \n",
      "DECISIONTREEREGRESSOR : {'DecisionTreeRegressor__max_depth': 8, 'DecisionTreeRegressor__min_samples_leaf': 1} 0.7417983886289493\n",
      "  \n",
      "SGDREGRESSOR : {'SGDRegressor__alpha': 0.35, 'SGDRegressor__learning_rate': 'adaptive', 'SGDRegressor__penalty': None} 0.6877920559477668\n",
      "  \n"
     ]
    }
   ],
   "source": [
    "print('Algorithm, best hyperparameters, r-squared:')\n",
    "i = 0\n",
    "while i < len(list(models.values())):\n",
    "    \n",
    "    grid_rf_regression = GridSearchCV(\n",
    "    estimator = list(models.values())[i],\n",
    "    param_grid = list(hyperparameters.values())[i],\n",
    "    #scoring='neg_mean_squared_error',\n",
    "    scoring='r2',\n",
    "    n_jobs=4,\n",
    "    cv = 3,\n",
    "    refit=True,\n",
    "    return_train_score=True)\n",
    "    \n",
    "    grid_rf_regression.fit(X_train, y_train)\n",
    "    #display(grid_rf_regression.get_params())\n",
    "    \n",
    "    print(list(models.keys())[i].upper(),':',grid_rf_regression.best_params_,grid_rf_regression.best_score_)\n",
    "    print('  ')\n",
    "    i += 1"
   ]
  },
  {
   "cell_type": "markdown",
   "id": "b02a693d",
   "metadata": {},
   "source": [
    "# Scaler and Principle Component Analysis (PCA)"
   ]
  },
  {
   "cell_type": "code",
   "execution_count": 11,
   "id": "b838bc9e",
   "metadata": {},
   "outputs": [],
   "source": [
    "scaler = StandardScaler()\n",
    "pca = PCA()\n",
    "\n",
    "models = {\n",
    "          'RandomForestRegressor' : Pipeline([('scaler', scaler),\n",
    "                                              ('pca', pca),\n",
    "                                              ('RandomForestRegressor', RandomForestRegressor(max_features='sqrt'))],),\n",
    "          'GradientBoostingRegressor' : Pipeline([('scaler', scaler),\n",
    "                                                  ('pca', pca),\n",
    "                                                  ('GradientBoostingRegressor', GradientBoostingRegressor())]),\n",
    "          'LinearRegression' : Pipeline([('scaler', scaler),\n",
    "                                         ('pca', pca),\n",
    "                                         ('LinearRegression', LinearRegression())]),\n",
    "          'DecisionTreeRegressor' : Pipeline([('scaler', scaler),\n",
    "                                              ('pca', pca),\n",
    "                                              ('DecisionTreeRegressor', DecisionTreeRegressor())]),\n",
    "          'SGDRegressor' :  Pipeline([('scaler', scaler),\n",
    "                                      ('pca', pca),\n",
    "                                      ('SGDRegressor', SGDRegressor())]),\n",
    "          }\n",
    "\n",
    "hyperparameters = {\n",
    "                   'RandomForestRegressor' : \n",
    "                                            {\n",
    "                                             'pca__n_components' : np.arange(1, len(X.columns) + 1, 1),\n",
    "                                             'RandomForestRegressor__max_depth': [6, 8, 10, 12],\n",
    "                                             'RandomForestRegressor__min_samples_leaf': [1, 2],\n",
    "                                             'RandomForestRegressor__n_estimators' : [165, 175, ],\n",
    "                                            },\n",
    "                   'GradientBoostingRegressor' : \n",
    "                                           {'pca__n_components' : np.arange(1, len(X.columns) + 1, 1),\n",
    "                                            'GradientBoostingRegressor__max_depth': [2, 4, 6, 8],\n",
    "                                            'GradientBoostingRegressor__min_samples_split': [3, 5, 8, 10],\n",
    "                                            'GradientBoostingRegressor__learning_rate': [ 0.01, 0.1, 0.15,],\n",
    "                                           },\n",
    "                   'LinearRegression' : \n",
    "                                        {\n",
    "                                          'pca__n_components' : np.arange(1, len(X.columns) + 1, 1),\n",
    "                                          'LinearRegression__fit_intercept' : [True, False],\n",
    "                                          'LinearRegression__positive' : [True, False],\n",
    "                                        },\n",
    "                   'DecisionTreeRegressor' : \n",
    "                                            {\n",
    "                                             'pca__n_components' : np.arange(1, len(X.columns) + 1, 1),\n",
    "                                             'DecisionTreeRegressor__max_depth': [2, 4, 6, 8],\n",
    "                                             'DecisionTreeRegressor__min_samples_leaf': [1, 2, 4, 6],\n",
    "                                            },\n",
    "                   'SGDRegressor' : \n",
    "                                    {\n",
    "                                     'pca__n_components' : np.arange(1, len(X.columns) + 1, 1),\n",
    "                                     'SGDRegressor__alpha' : [0.15, 0.25, 0.30, 0.35], \n",
    "                                     'SGDRegressor__learning_rate' :['constant', 'optimal', 'invscaling', 'adaptive'],\n",
    "                                     'SGDRegressor__penalty': ['l2', 'l1', 'elasticnet', None],\n",
    "                                    }\n",
    "                    }"
   ]
  },
  {
   "cell_type": "code",
   "execution_count": 12,
   "id": "2372598c",
   "metadata": {},
   "outputs": [
    {
     "name": "stdout",
     "output_type": "stream",
     "text": [
      "Algorithm, best hyperparameters, r-squared:\n",
      "RANDOMFORESTREGRESSOR : {'RandomForestRegressor__max_depth': 12, 'RandomForestRegressor__min_samples_leaf': 1, 'RandomForestRegressor__n_estimators': 165, 'pca__n_components': 12} 0.7396813003224555\n",
      "  \n",
      "GRADIENTBOOSTINGREGRESSOR : {'GradientBoostingRegressor__learning_rate': 0.1, 'GradientBoostingRegressor__max_depth': 4, 'GradientBoostingRegressor__min_samples_split': 10, 'pca__n_components': 12} 0.7943943739600443\n",
      "  \n",
      "LINEARREGRESSION : {'LinearRegression__fit_intercept': True, 'LinearRegression__positive': False, 'pca__n_components': 13} 0.6864013112944151\n",
      "  \n",
      "DECISIONTREEREGRESSOR : {'DecisionTreeRegressor__max_depth': 8, 'DecisionTreeRegressor__min_samples_leaf': 2, 'pca__n_components': 7} 0.5889123570638041\n",
      "  \n",
      "SGDREGRESSOR : {'SGDRegressor__alpha': 0.3, 'SGDRegressor__learning_rate': 'adaptive', 'SGDRegressor__penalty': None, 'pca__n_components': 13} 0.6874868823240415\n",
      "  \n"
     ]
    }
   ],
   "source": [
    "print('Algorithm, best hyperparameters, r-squared:')\n",
    "i = 0\n",
    "while i < len(list(models.values())):\n",
    "    \n",
    "    grid_rf_regression = GridSearchCV(\n",
    "    estimator = list(models.values())[i],\n",
    "    param_grid = list(hyperparameters.values())[i],\n",
    "    #scoring='neg_mean_squared_error',\n",
    "    scoring='r2',\n",
    "    n_jobs=4,\n",
    "    cv = 3,\n",
    "    refit=True,\n",
    "    return_train_score=True)\n",
    "    \n",
    "    grid_rf_regression.fit(X_train, y_train)\n",
    "    #display(grid_rf_regression.get_params())\n",
    "    \n",
    "    print(list(models.keys())[i].upper(),':',grid_rf_regression.best_params_,grid_rf_regression.best_score_)\n",
    "    print('  ')\n",
    "    i += 1"
   ]
  },
  {
   "cell_type": "markdown",
   "id": "d0041a94",
   "metadata": {},
   "source": [
    "# The tree based estimators - xgbooster, (not in this notebook) decision tree, and random forest - often do not benefit from scaling and pca, which I why I prefer them.  Nonetheless, if you wish you use an algorithm that requires scaling or pca, you can use the code in this notebook as a guide.<br> Below is an example of how I might instigate a well performing above. "
   ]
  },
  {
   "cell_type": "code",
   "execution_count": 13,
   "id": "8ca98523",
   "metadata": {},
   "outputs": [],
   "source": [
    "pipe = Pipeline([('scaler', StandardScaler()),\n",
    "                 ('reducer', PCA(n_components=3)),\n",
    "                 ('regressor', RandomForestRegressor())])"
   ]
  },
  {
   "cell_type": "code",
   "execution_count": 14,
   "id": "9f45c87c",
   "metadata": {},
   "outputs": [
    {
     "data": {
      "text/plain": [
       "Pipeline(steps=[('scaler', StandardScaler()), ('reducer', PCA(n_components=3)),\n",
       "                ('regressor', RandomForestRegressor())])"
      ]
     },
     "execution_count": 14,
     "metadata": {},
     "output_type": "execute_result"
    }
   ],
   "source": [
    "pipe.fit(X_train, y_train)"
   ]
  },
  {
   "cell_type": "code",
   "execution_count": 15,
   "id": "0792b6c5",
   "metadata": {},
   "outputs": [
    {
     "name": "stdout",
     "output_type": "stream",
     "text": [
      "0.7161943144071752\n"
     ]
    }
   ],
   "source": [
    "print(pipe.score(X_test, y_test))"
   ]
  },
  {
   "cell_type": "code",
   "execution_count": null,
   "id": "a16b2d63",
   "metadata": {},
   "outputs": [],
   "source": []
  }
 ],
 "metadata": {
  "kernelspec": {
   "display_name": "Python 3 (ipykernel)",
   "language": "python",
   "name": "python3"
  },
  "language_info": {
   "codemirror_mode": {
    "name": "ipython",
    "version": 3
   },
   "file_extension": ".py",
   "mimetype": "text/x-python",
   "name": "python",
   "nbconvert_exporter": "python",
   "pygments_lexer": "ipython3",
   "version": "3.9.7"
  }
 },
 "nbformat": 4,
 "nbformat_minor": 5
}
